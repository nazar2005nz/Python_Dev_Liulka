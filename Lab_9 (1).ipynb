{
 "cells": [
  {
   "cell_type": "code",
   "execution_count": null,
   "id": "d72a3acf-ee49-475f-8283-c2d3aebd3cde",
   "metadata": {},
   "outputs": [],
   "source": [
    "Лабораторна робота №9. Рядки. Методи рядків і списків. Частина І"
   ]
  },
  {
   "cell_type": "code",
   "execution_count": null,
   "id": "68a37673-1e4f-467c-b5a6-0ca79aba4762",
   "metadata": {},
   "outputs": [],
   "source": [
    "Мета: навчитися обробляти рядки за допомогою спеціальних функцій і методів."
   ]
  },
  {
   "cell_type": "code",
   "execution_count": null,
   "id": "7088d12c-c53a-4ae7-a822-bc36470c6270",
   "metadata": {},
   "outputs": [],
   "source": [
    "Приклад 1\n",
    "Написати власну функцію, яка працює практично так само, як оригінальний метод split(), а саме:\n",
    "\n",
    "вона повинна приймати рівно один аргумент - рядок;\n",
    "вона повинна повертати список слів, які можна створити з даного рядка, розділивши його пробілами;\n",
    "якщо рядок порожній, функція повинна повертати порожній список;\n",
    "ім’я функції mysplit().\n",
    "Використовуйте шаблон у редакторі. Добре протестуйте свій код."
   ]
  },
  {
   "cell_type": "code",
   "execution_count": null,
   "id": "5b440873-0031-40f0-b237-a38567446a79",
   "metadata": {},
   "outputs": [],
   "source": [
    "def mysplit(string):\n",
    "    # Перевіряємо, чи рядок не порожній\n",
    "    if string.strip() == \"\":\n",
    "        return []\n",
    "    # Розділяємо рядок за пробілами\n",
    "    return string.split()\n",
    "\n",
    "# Тестуємо функцію\n",
    "print(mysplit(\"To be or not to be, that is the question\"))\n",
    "print(mysplit(\"To be or not to be,that is the question\"))\n",
    "print(mysplit(\"\"))\n",
    "print(mysplit(\"abc\"))\n",
    "print(mysplit(\"   \"))\n"
   ]
  },
  {
   "attachments": {
    "b16671e0-3d56-4741-96a1-287707d56537.png": {
     "image/png": "[encoded data removed]"
    }
   },
   "cell_type": "markdown",
   "id": "6091ee57-460b-47cc-a048-5fbd4e73841c",
   "metadata": {},
   "source": [
    "![image.png](attachment:b16671e0-3d56-4741-96a1-287707d56537.png)"
   ]
  },
  {
   "cell_type": "code",
   "execution_count": null,
   "id": "fab90fff-8bc4-475a-b858-d66c2eb0d480",
   "metadata": {},
   "outputs": [],
   "source": [
    "Приклад 2\n",
    "Ви, дійсно, бачили семисегментний дисплей.\n",
    "\n",
    "Це пристрій (іноді електронний, іноді механічний), який призначений для відображення однієї десяткової цифри за допомогою підмножини з семи сегментів. Якщо ви все ще не знаєте, що це таке, зверніться до статті у Вікіпедії.\n",
    "\n",
    "Ваше завдання - написати програму, яка здатна імітувати роботу пристрою з семисегментним дисплеєм, хоча краще все ж таки використовувати окремі світлодіоди замість сегментів.\n",
    "\n",
    "Кожна цифра складається з 13 світлодіодів (деякі горять, деякі вимкнені) – ось як ми це уявляємо:"
   ]
  },
  {
   "cell_type": "code",
   "execution_count": null,
   "id": "364c32dc-4e2a-426a-8ea8-31063bf4cabe",
   "metadata": {},
   "outputs": [],
   "source": [
    "digits = [\n",
    "    \" ### \\n#   #\\n#   #\\n#   #\\n ### \",  # 0\n",
    "    \"  #  \\n ##  \\n  #  \\n  #  \\n ### \",  # 1\n",
    "    \" ### \\n    #\\n ### \\n#    \\n ### \",  # 2\n",
    "    \" ### \\n    #\\n ### \\n    #\\n ### \",  # 3\n",
    "    \"#   #\\n#   #\\n ### \\n    #\\n    #\",  # 4\n",
    "    \" ### \\n#    \\n ### \\n    #\\n ### \",  # 5\n",
    "    \" ### \\n#    \\n ### \\n#   #\\n ### \",  # 6\n",
    "    \" ### \\n    #\\n   # \\n  #  \\n #   \",  # 7\n",
    "    \" ### \\n#   #\\n ### \\n#   #\\n ### \",  # 8\n",
    "    \" ### \\n#   #\\n ### \\n    #\\n ### \"   # 9\n",
    "]\n",
    "\n",
    "def display_number(number):\n",
    "    # Розбиваємо число на цифри\n",
    "    rows = [\"\"] * 5\n",
    "    for digit in str(number):\n",
    "        digit_representation = digits[int(digit)].split(\"\\n\")\n",
    "        for i in range(5):\n",
    "            rows[i] += digit_representation[i] + \"  \"\n",
    "    return \"\\n\".join(rows)\n",
    "\n",
    "# Тестуємо\n",
    "print(display_number(123))\n"
   ]
  },
  {
   "attachments": {
    "9500adf6-952a-4f43-b768-84835b4687fd.png": {
     "image/png": "[encoded data removed]"
    }
   },
   "cell_type": "markdown",
   "id": "832a3215-05c3-47de-8857-7f65657cc098",
   "metadata": {},
   "source": [
    "![image.png](attachment:9500adf6-952a-4f43-b768-84835b4687fd.png)"
   ]
  },
  {
   "cell_type": "code",
   "execution_count": null,
   "id": "22c10b24-b4b7-4f66-8b15-961ea1bc78c3",
   "metadata": {},
   "outputs": [],
   "source": [
    "Приклад 3\n",
    "Шифр Цезаря\n",
    "\n",
    "Цей шифр був (мабуть) винайдений і використаний Гаєм Юлієм Цезарем та його військами під час Галльських війн. Ідея досить проста - кожна буква повідомлення замінюється на найближчу наступну (A стає B, B стає C тощо). Єдиним виключенням є буква Z, яка стає A.\n",
    "\n",
    "Напишіть програму для шифрування поввідомлення, використовуючи такі припущення:\n",
    "\n",
    "вона приймає лише латинські літери (примітка: римляни не використовували пробіли, ні цифри);\n",
    "всі літери повідомлення знаходяться у верхньому регістрі (примітка: римляни знали лише великі літери)."
   ]
  },
  {
   "cell_type": "code",
   "execution_count": null,
   "id": "f4d9feb0-4d9d-4cce-a833-68772880cb99",
   "metadata": {},
   "outputs": [],
   "source": [
    "def caesar_cipher(message):\n",
    "    encrypted_message = \"\"\n",
    "    for char in message:\n",
    "        if char.isalpha():\n",
    "            shifted = ord(char) + 1\n",
    "            if char == 'Z':\n",
    "                shifted = ord('A')\n",
    "            elif char == 'z':\n",
    "                shifted = ord('a')\n",
    "            encrypted_message += chr(shifted)\n",
    "        else:\n",
    "            encrypted_message += char\n",
    "    return encrypted_message\n",
    "\n",
    "# Тестуємо\n",
    "message = input(\"Enter your message: \").upper()\n",
    "print(caesar_cipher(message))\n"
   ]
  },
  {
   "attachments": {
    "b59fb1e3-79b6-477d-8bb6-1233e7c06314.png": {
     "image/png": "[encoded data removed]"
    }
   },
   "cell_type": "markdown",
   "id": "2265ceb9-e5d0-49ff-a44f-bf847a794ee3",
   "metadata": {},
   "source": [
    "![image.png](attachment:b59fb1e3-79b6-477d-8bb6-1233e7c06314.png)"
   ]
  },
  {
   "cell_type": "code",
   "execution_count": null,
   "id": "931bdaf1-30fa-45bb-a388-be747cd374e3",
   "metadata": {},
   "outputs": [],
   "source": [
    "Приклад 4\n",
    "Напишить програму для дешифрування повідомлення, зашифрованого шифром Цезара.\n",
    "\n",
    "Code\n",
    "Enter your cryptogram:  JMPWFZPV"
   ]
  },
  {
   "cell_type": "code",
   "execution_count": null,
   "id": "3340c652-5a79-4820-b1b0-61649d831cb2",
   "metadata": {},
   "outputs": [],
   "source": [
    "def caesar_decipher(cryptogram):\n",
    "    decrypted_message = \"\"\n",
    "    for char in cryptogram:\n",
    "        if char.isalpha():\n",
    "            shifted = ord(char) - 1\n",
    "            if char == 'A':\n",
    "                shifted = ord('Z')\n",
    "            elif char == 'a':\n",
    "                shifted = ord('z')\n",
    "            decrypted_message += chr(shifted)\n",
    "        else:\n",
    "            decrypted_message += char\n",
    "    return decrypted_message\n",
    "\n",
    "# Тестуємо\n",
    "cryptogram = input(\"Enter your cryptogram: \").upper()\n",
    "print(caesar_decipher(cryptogram))\n"
   ]
  },
  {
   "attachments": {
    "9950d94c-b291-498f-8335-762c92dbf556.png": {
     "image/png": "[encoded data removed]"
    }
   },
   "cell_type": "markdown",
   "id": "721d9baf-a233-4171-ab64-2f041230f3f2",
   "metadata": {},
   "source": [
    "![image.png](attachment:9950d94c-b291-498f-8335-762c92dbf556.png)"
   ]
  },
  {
   "cell_type": "code",
   "execution_count": null,
   "id": "4f16dde9-58c9-4ed1-a04f-360e13800c7d",
   "metadata": {},
   "outputs": [],
   "source": [
    "Завдання 1\n",
    "Ви вже знайомі з шифром Цезаря, і тому ми хочемо, щоб Ви покращили код, який ми нещодавно показували.\n",
    "\n",
    "Вихідний шифр Цезаря зрушує кожен символ однією: a стає b, z стає a, тощо. Давайте зробимо його трохи складнішим і дозволимо зміщеному значенню вийти з діапазону 1-25 включно.\n",
    "\n",
    "Крім того, нехай код зберігає регістр літер (малі літери залишаться малими), а всі неалфавітні символи повинні залишитися без змін.\n",
    "\n",
    "Ваше завдання - написати програму, яка:\n",
    "\n",
    "запитує у користувача рядок, який треба зашифрувати; запитує користувача значення зсуву (ціле число з діапазону 1-25 - примітка: Ви повинні змусити користувача ввести дійсне значення зсуву (не здавайтеся і не дозволяйте некоректним даним обдурити Вас); друкує закодований текст. Протестуйте свій код, використовуючи надані нами дані."
   ]
  },
  {
   "cell_type": "code",
   "execution_count": null,
   "id": "675e994c-0c3e-4df6-afd6-ada4c45c9c92",
   "metadata": {},
   "outputs": [],
   "source": [
    "def enhanced_caesar_cipher(message, shift):\n",
    "    while not (1 <= shift <= 25):  # Перевіряємо, щоб зсув був у правильному діапазоні\n",
    "        shift = int(input(\"Enter a valid shift (1-25): \"))\n",
    "    \n",
    "    encrypted_message = \"\"\n",
    "    for char in message:\n",
    "        if char.isalpha():\n",
    "            is_upper = char.isupper()\n",
    "            base = ord('A') if is_upper else ord('a')\n",
    "            encrypted_message += chr((ord(char) - base + shift) % 26 + base)\n",
    "        else:\n",
    "            encrypted_message += char\n",
    "    return encrypted_message\n",
    "\n",
    "# Тестуємо\n",
    "message = input(\"Enter your message: \")\n",
    "shift = int(input(\"Enter shift value (1-25): \"))\n",
    "print(enhanced_caesar_cipher(message, shift))\n"
   ]
  },
  {
   "attachments": {
    "f418ff79-8282-46fb-ab31-686c94510d96.png": {
     "image/png": "[encoded data removed]"
    }
   },
   "cell_type": "markdown",
   "id": "da577306-dac1-4f32-b0b1-689b7c201e01",
   "metadata": {},
   "source": [
    "![image.png](attachment:f418ff79-8282-46fb-ab31-686c94510d96.png)"
   ]
  },
  {
   "cell_type": "code",
   "execution_count": null,
   "id": "490ee6bf-5182-4d4c-9e53-0061d790b00a",
   "metadata": {},
   "outputs": [],
   "source": [
    "Контрольні запитання\n",
    "Який із наступних рядків описує справжню умову?\n",
    "'smith' > 'Smith'\n",
    "'Smith' > '1000'\n",
    "\n",
    "Який очікуваний результат наступного коду?\n",
    "are\n",
    "\n",
    "\n",
    "Який очікуваний результат наступного коду?\n"
   ]
  },
  {
   "cell_type": "code",
   "execution_count": null,
   "id": "e86c7646-db85-48e0-957b-ee5b234b6a7c",
   "metadata": {},
   "outputs": [],
   "source": [
    "ValueError: invalid literal for int() with base 10: '12.8'\n"
   ]
  }
 ],
 "metadata": {
  "kernelspec": {
   "display_name": "Python 3 (ipykernel)",
   "language": "python",
   "name": "python3"
  },
  "language_info": {
   "codemirror_mode": {
    "name": "ipython",
    "version": 3
   },
   "file_extension": ".py",
   "mimetype": "text/x-python",
   "name": "python",
   "nbconvert_exporter": "python",
   "pygments_lexer": "ipython3",
   "version": "3.12.7"
  }
 },
 "nbformat": 4,
 "nbformat_minor": 5
}

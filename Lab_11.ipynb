{
 "cells": [
  {
   "cell_type": "code",
   "execution_count": null,
   "id": "d192fa0f-5341-4f6a-89cc-fe40306e571d",
   "metadata": {},
   "outputs": [],
   "source": [
    "Лабораторна робота №11. Об’єктно-орієнтоване програмування. Частина І"
   ]
  },
  {
   "cell_type": "code",
   "execution_count": null,
   "id": "7e47e653-7635-4b9c-8fbd-bf9ddc19d3f6",
   "metadata": {},
   "outputs": [],
   "source": [
    "Мета: навчитися обробляти рядки за допомогою спеціальних функцій і методів."
   ]
  },
  {
   "cell_type": "code",
   "execution_count": null,
   "id": "9e1a4a09-ad51-4689-a84c-70a5ee691bb7",
   "metadata": {},
   "outputs": [],
   "source": [
    "Основи об’єктно-орієнтованого програмування на Python"
   ]
  },
  {
   "cell_type": "code",
   "execution_count": null,
   "id": "ad3114e5-4dca-4939-bd50-338666c32434",
   "metadata": {},
   "outputs": [],
   "source": [
    "Приклад 1\n",
    "В лекції 12 було показано, як розширити можливості Stack, визначивши новий клас (тобто підклас), який зберігає усі успадковані риси та додає деякі нові.\n",
    "\n",
    "Ваше завдання – розширити поведінку класу Stack таким чином, щоб клас міг підраховувати всі елементи, що додаються і видаляються (ми припускаємо, що підрахунку видалень достатньо). Використовуйте клас Stack, який надано нижче.\n",
    "\n",
    "Дотримуйтесь підказок:\n",
    "\n",
    "додайте властивість, призначену для підрахунку операцій pop, і дайте йому ім’я, що гарантує його приховування;\n",
    "ініціалізуйте його нулем усередині конструктора;\n",
    "додайте метод, який повертає поточне значення, надане лічильнику (назвіть його get_counter()).\n",
    "перевірте код"
   ]
  },
  {
   "cell_type": "code",
   "execution_count": null,
   "id": "5736141c-8344-46ac-8cdc-3dcefc1bf7a5",
   "metadata": {},
   "outputs": [],
   "source": [
    "class Stack:\n",
    "    def __init__(self):\n",
    "        self.items = []\n",
    "    \n",
    "    def is_empty(self):\n",
    "        return len(self.items) == 0\n",
    "    \n",
    "    def push(self, item):\n",
    "        self.items.append(item)\n",
    "    \n",
    "    def pop(self):\n",
    "        if not self.is_empty():\n",
    "            return self.items.pop()\n",
    "        return None\n",
    "\n",
    "# Розширення Stack для підрахунку операцій pop\n",
    "class StackWithCounter(Stack):\n",
    "    def __init__(self):\n",
    "        super().__init__()\n",
    "        self._pop_count = 0  # Лічильник операцій pop\n",
    "    \n",
    "    def pop(self):\n",
    "        item = super().pop()\n",
    "        if item is not None:\n",
    "            self._pop_count += 1\n",
    "        return item\n",
    "    \n",
    "    def get_counter(self):\n",
    "        return self._pop_count\n",
    "\n",
    "# Тестування\n",
    "stack = StackWithCounter()\n",
    "stack.push(1)\n",
    "stack.push(2)\n",
    "stack.push(3)\n",
    "\n",
    "print(stack.pop())  # 3\n",
    "print(stack.pop())  # 2\n",
    "print(\"Pop operations count:\", stack.get_counter())  # 2\n"
   ]
  },
  {
   "attachments": {
    "db8a6e38-23e2-4dc4-91fd-a32cd4a9a6e1.png": {
     "image/png": "[encoded data removed]"
    }
   },
   "cell_type": "markdown",
   "id": "16efb1d9-dcbc-4ec4-a2d9-51aa554b30c4",
   "metadata": {},
   "source": [
    "![image.png](attachment:db8a6e38-23e2-4dc4-91fd-a32cd4a9a6e1.png)"
   ]
  },
  {
   "cell_type": "code",
   "execution_count": null,
   "id": "ac6c2013-0ad4-4f38-8be5-fcb77af1ff2f",
   "metadata": {},
   "outputs": [],
   "source": [
    "Приклад 2\n",
    "Як Ви вже знаєте, стек – це структура даних, що реалізує модель LIFO (Last In – First Out).\n",
    "\n",
    "Черга -– це модель даних, що характеризується терміном FIFO: First In – Fist Out. Примітка: звичайна черга, відома Вам з магазинів або поштових відділень, працює так само - першим обслуговується покупець, який прийшов першим.\n",
    "\n",
    "Ваше завдання -– реалізувати клас Queue з двома основними операціями:\n",
    "\n",
    "put(element), яка поміщає елемент на кінець черги;\n",
    "get(), яка бере елемент із початку черги і повертає його як результат (черга не може бути порожньою для успішного виконання).\n",
    "Дотримуйтесь підказок:\n",
    "\n",
    "використовуйте список як сховище (як і у випадку зі стеком);\n",
    "put() повинен додавати елементи на початок списку, а get() повинен видаляти елементи з кінця списку;\n",
    "визначте новий виняток із ім’ям QueueError (виберіть виняток для його створення) та викличте його, коли get() спробує працювати з порожнім списком."
   ]
  },
  {
   "cell_type": "code",
   "execution_count": null,
   "id": "b4057d52-baac-459d-b856-db07e23998b8",
   "metadata": {},
   "outputs": [],
   "source": [
    "class QueueError(Exception):\n",
    "    \"\"\"Виняток для черги\"\"\"\n",
    "    pass\n",
    "\n",
    "class Queue:\n",
    "    def __init__(self):\n",
    "        self.items = []\n",
    "    \n",
    "    def put(self, element):\n",
    "        self.items.append(element)\n",
    "    \n",
    "    def get(self):\n",
    "        if not self.items:\n",
    "            raise QueueError(\"Queue is empty\")\n",
    "        return self.items.pop(0)  # Видаляємо з початку списку\n",
    "    \n",
    "    def is_empty(self):\n",
    "        return len(self.items) == 0\n",
    "\n",
    "# Тестування\n",
    "queue = Queue()\n",
    "queue.put(1)\n",
    "queue.put(\"dog\")\n",
    "queue.put(False)\n",
    "\n",
    "print(queue.get())  # 1\n",
    "print(queue.get())  # \"dog\"\n",
    "print(queue.is_empty())  # False\n",
    "\n",
    "try:\n",
    "    queue.get()\n",
    "    queue.get()  # Тут буде викликано QueueError\n",
    "except QueueError as e:\n",
    "    print(e)  # Queue is empty\n"
   ]
  },
  {
   "attachments": {
    "82106101-e7e7-40e2-aed1-b456b2922ad2.png": {
     "image/png": "[encoded data removed]"
    }
   },
   "cell_type": "markdown",
   "id": "80361330-3606-4a88-a520-fd7def32890c",
   "metadata": {},
   "source": [
    "![image.png](attachment:82106101-e7e7-40e2-aed1-b456b2922ad2.png)"
   ]
  },
  {
   "cell_type": "code",
   "execution_count": null,
   "id": "c8d4ee6a-5cc7-4ec4-9d0b-5a0ac0ed31b3",
   "metadata": {},
   "outputs": [],
   "source": [
    "Завдання 1\n",
    "Ваше завдання –- трохи розширити можливості класу Queue (див. попередній приклад). Нам потрібен метод без параметрів, який повертає True, якщо черга порожня, і False інакше.\n",
    "\n",
    "Доповніть код, який надано нижче. Запустіть його, щоб перевірити, чи дає він результат, аналогічний нашому."
   ]
  },
  {
   "cell_type": "code",
   "execution_count": null,
   "id": "9bd9b39a-9936-466d-8b9e-b352e31a66cc",
   "metadata": {},
   "outputs": [],
   "source": [
    "class QueueError(Exception):\n",
    "    \"\"\"Виняток для черги\"\"\"\n",
    "    pass\n",
    "\n",
    "class Queue:\n",
    "    def __init__(self):\n",
    "        self.items = []\n",
    "    \n",
    "    def put(self, element):\n",
    "        self.items.append(element)\n",
    "    \n",
    "    def get(self):\n",
    "        if not self.items:\n",
    "            raise QueueError(\"Queue is empty\")\n",
    "        return self.items.pop(0)  # Видаляємо з початку списку\n",
    "    \n",
    "    def is_empty(self):\n",
    "        return len(self.items) == 0\n",
    "\n",
    "# Тестування\n",
    "queue = Queue()\n",
    "queue.put(1)\n",
    "queue.put(\"dog\")\n",
    "queue.put(False)\n",
    "\n",
    "print(queue.get())  # 1\n",
    "print(queue.get())  # \"dog\"\n",
    "print(queue.is_empty())  # False\n",
    "\n",
    "try:\n",
    "    queue.get()\n",
    "    queue.get()  # Тут буде викликано QueueError\n",
    "except QueueError as e:\n",
    "    print(e)  # Queue is empty\n"
   ]
  },
  {
   "attachments": {
    "cd6ff499-4e02-4f1b-a77f-e54af0e9f655.png": {
     "image/png": "[encoded data removed]"
    }
   },
   "cell_type": "markdown",
   "id": "f8c1b309-5d9f-45f8-98d8-2e61bbb18e3e",
   "metadata": {},
   "source": [
    "![image.png](attachment:cd6ff499-4e02-4f1b-a77f-e54af0e9f655.png)"
   ]
  },
  {
   "cell_type": "code",
   "execution_count": null,
   "id": "4650d5a9-aef7-4ce2-b0de-4f69e1cfac4d",
   "metadata": {},
   "outputs": [],
   "source": [
    "Контрольні запитання\n",
    "У наступному оголошенні чогось не вистачає – чого? image.png\n",
    "Виправлений код\n",
    "class Snakes(Snake):  # Додаємо, що клас Snakes є підкласом Snake\n",
    "    def __init__(self):  # Конструктор повинен бути __init__\n",
    "        self.sound = \"Sssssssss\"  # Використовуємо подвійні лапки для рядка\n",
    "\n",
    "Припускаючи, що існує клас з ім’ям Snake, напишіть перший рядок оголошення класу Python, вказавши, що новий клас насправді є підкласом Snake.\n",
    "class Snakes:\n",
    "    def __init__(self):\n",
    "        self.__venomous = True  # Приватна властивість\n",
    "\n",
    "Змініть код, щоб гарантувати, що властивість venomous є приватною. \n",
    "class Snakes(Snake):  # Клас Snakes є підкласом Snake\n",
    "    def __init__(self):\n",
    "        self.sound = \"Sssssssss\"\n",
    "        self.__venomous = True  # Приватна властивість venomous"
   ]
  }
 ],
 "metadata": {
  "kernelspec": {
   "display_name": "Python 3 (ipykernel)",
   "language": "python",
   "name": "python3"
  },
  "language_info": {
   "codemirror_mode": {
    "name": "ipython",
    "version": 3
   },
   "file_extension": ".py",
   "mimetype": "text/x-python",
   "name": "python",
   "nbconvert_exporter": "python",
   "pygments_lexer": "ipython3",
   "version": "3.12.7"
  }
 },
 "nbformat": 4,
 "nbformat_minor": 5
}

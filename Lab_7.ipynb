{
 "cells": [
  {
   "cell_type": "code",
   "execution_count": null,
   "id": "4becbe6e-e177-421d-8929-921d10627b3e",
   "metadata": {},
   "outputs": [],
   "source": [
    "Лабораторна робота №7. Словники, кортежі. Обробка винятків (empty)"
   ]
  },
  {
   "cell_type": "code",
   "execution_count": null,
   "id": "54ca9b14-5200-420b-92dd-5718754d5c75",
   "metadata": {},
   "outputs": [],
   "source": [
    "Мета: навчитися працювати зі структурами даних Кортеж та Словник. Навчитись обробляти основні типи винятків"
   ]
  },
  {
   "cell_type": "code",
   "execution_count": null,
   "id": "83c3fd25-69a0-4dec-ab2f-943c82e42d81",
   "metadata": {},
   "outputs": [],
   "source": [
    "Завдання 1: Числа, менші за задане число \n",
    "𝑛\n",
    "n"
   ]
  },
  {
   "cell_type": "code",
   "execution_count": null,
   "id": "a781a010-8a64-4c92-bfa2-84c7654eaab6",
   "metadata": {},
   "outputs": [],
   "source": [
    "# Введення даних\n",
    "numbers = [10, 20, 30, 40, 50]\n",
    "tuple_numbers = tuple(numbers)  # Створюємо кортеж зі списку\n",
    "n = int(input(\"Введіть число n: \"))\n",
    "\n",
    "# Використання генератора списків\n",
    "result = [num for num in tuple_numbers if num < n]\n",
    "\n",
    "# Вивід результату\n",
    "print(f\"Числа, менші за {n}: {result}\")\n"
   ]
  },
  {
   "attachments": {
    "b2fe4479-3a83-493c-90a2-7f047dfc5b32.png": {
     "image/png": "[encoded data removed]"
    }
   },
   "cell_type": "markdown",
   "id": "c8b6334d-ee8c-4d1c-b3d5-d5fdbc804319",
   "metadata": {},
   "source": [
    "![image.png](attachment:b2fe4479-3a83-493c-90a2-7f047dfc5b32.png)"
   ]
  },
  {
   "cell_type": "code",
   "execution_count": null,
   "id": "4f234ad3-082b-402c-a17d-5cd4d2d920b8",
   "metadata": {},
   "outputs": [],
   "source": [
    "Завдання 2: З'єднання рядків із кортежу"
   ]
  },
  {
   "cell_type": "code",
   "execution_count": null,
   "id": "02f38d77-9d1f-405d-840a-5a8c8d54bb30",
   "metadata": {},
   "outputs": [],
   "source": [
    "# Створення кортежу\n",
    "tuple_strings = (\"apple\", \"banana\", \"cherry\")\n",
    "\n",
    "# Об'єднання рядків з комою\n",
    "result = \", \".join(tuple_strings)\n",
    "\n",
    "# Вивід результату\n",
    "print(result)\n"
   ]
  },
  {
   "attachments": {
    "e73c9391-a590-4020-9bea-358cec46128f.png": {
     "image/png": "[encoded data removed]"
    }
   },
   "cell_type": "markdown",
   "id": "7f84ffff-4a67-4d0d-ad87-9235950de71a",
   "metadata": {},
   "source": [
    "![image.png](attachment:e73c9391-a590-4020-9bea-358cec46128f.png)"
   ]
  },
  {
   "cell_type": "code",
   "execution_count": null,
   "id": "8878e82f-2d49-4585-9074-e8032300fcd7",
   "metadata": {},
   "outputs": [],
   "source": [
    "Завдання 3: Словник про книги"
   ]
  },
  {
   "cell_type": "code",
   "execution_count": null,
   "id": "36be7ef2-4f81-476c-9c7d-c7c995222600",
   "metadata": {},
   "outputs": [],
   "source": [
    "# Створення словника\n",
    "books = {\n",
    "    \"1984\": {\"Автор\": \"Джордж Орвелл\", \"Рік видання\": 1949, \"Кількість сторінок\": 328},\n",
    "    \"Майстер і Маргарита\": {\"Автор\": \"Михайло Булгаков\", \"Рік видання\": 1967, \"Кількість сторінок\": 384},\n",
    "    \"Портрет Доріана Грея\": {\"Автор\": \"Оскар Уайльд\", \"Рік видання\": 1890, \"Кількість сторінок\": 254},\n",
    "}\n",
    "\n",
    "# Введення назви книги\n",
    "book_name = input(\"Введіть назву книги: \")\n",
    "\n",
    "# Вивід інформації про книгу\n",
    "if book_name in books:\n",
    "    book_info = books[book_name]\n",
    "    print(f\"Автор: {book_info['Автор']}, Рік видання: {book_info['Рік видання']}, Кількість сторінок: {book_info['Кількість сторінок']}\")\n",
    "else:\n",
    "    print(\"Такої книги немає у бібліотеці.\")\n"
   ]
  },
  {
   "attachments": {
    "35db8f58-0ce6-45fb-ac5c-a08229a371f8.png": {
     "image/png": "[encoded data removed]"
    }
   },
   "cell_type": "markdown",
   "id": "9a1e50ea-9f72-4d09-abc4-6c75e6d2a81c",
   "metadata": {},
   "source": [
    "![image.png](attachment:35db8f58-0ce6-45fb-ac5c-a08229a371f8.png)"
   ]
  },
  {
   "cell_type": "code",
   "execution_count": null,
   "id": "a801e161-d679-4431-8205-82a9ec960c85",
   "metadata": {},
   "outputs": [],
   "source": [
    "Завдання 4: Словник студентів"
   ]
  },
  {
   "cell_type": "code",
   "execution_count": null,
   "id": "62dda678-ec10-4068-a02c-3825991682bb",
   "metadata": {},
   "outputs": [],
   "source": [
    "# Створення словника\n",
    "students = {\n",
    "    \"Іванов\": (\"Іван\", \"Математика: 80\", \"Фізика: 75\"),\n",
    "    \"Петров\": (\"Петро\", \"Математика: 90\", \"Фізика: 85\"),\n",
    "    \"Сидоров\": (\"Сидір\", \"Математика: 70\", \"Фізика: 65\"),\n",
    "}\n",
    "\n",
    "# Введення прізвища студента\n",
    "last_name = input(\"Введіть прізвище студента: \")\n",
    "\n",
    "# Вивід інформації\n",
    "if last_name in students:\n",
    "    student_info = students[last_name]\n",
    "    print(f\"Ім'я: {student_info[0]}\")\n",
    "    for subject in student_info[1:]:\n",
    "        print(subject)\n",
    "else:\n",
    "    print(\"Такого студента немає.\")\n"
   ]
  },
  {
   "attachments": {
    "b585e802-96e8-4653-a93e-202032624cb0.png": {
     "image/png": "[encoded data removed]"
    }
   },
   "cell_type": "markdown",
   "id": "784b5196-2560-4566-9e82-539775986e8d",
   "metadata": {},
   "source": [
    "![image.png](attachment:b585e802-96e8-4653-a93e-202032624cb0.png)"
   ]
  },
  {
   "cell_type": "code",
   "execution_count": null,
   "id": "84af5587-9b22-4330-846f-dfb04901d0ad",
   "metadata": {},
   "outputs": [],
   "source": [
    "Завдання 5: Телефонна книга"
   ]
  },
  {
   "cell_type": "code",
   "execution_count": null,
   "id": "cfac0107-1d4e-49db-8acf-40d7a23689fb",
   "metadata": {},
   "outputs": [],
   "source": [
    "\n",
    "Ось розв'язання для кожного із завдань:\n",
    "\n",
    "Завдання 1: Числа, менші за задане число \n",
    "𝑛\n",
    "n\n",
    "python\n",
    "Копіювати код\n",
    "# Введення даних\n",
    "numbers = [10, 20, 30, 40, 50]\n",
    "tuple_numbers = tuple(numbers)  # Створюємо кортеж зі списку\n",
    "n = int(input(\"Введіть число n: \"))\n",
    "\n",
    "# Використання генератора списків\n",
    "result = [num for num in tuple_numbers if num < n]\n",
    "\n",
    "# Вивід результату\n",
    "print(f\"Числа, менші за {n}: {result}\")\n",
    "Приклад введення/виводу:\n",
    "\n",
    "yaml\n",
    "Копіювати код\n",
    "Введіть число n: 35\n",
    "Числа, менші за 35: [10, 20, 30]\n",
    "Завдання 2: З'єднання рядків із кортежу\n",
    "python\n",
    "Копіювати код\n",
    "# Створення кортежу\n",
    "tuple_strings = (\"apple\", \"banana\", \"cherry\")\n",
    "\n",
    "# Об'єднання рядків з комою\n",
    "result = \", \".join(tuple_strings)\n",
    "\n",
    "# Вивід результату\n",
    "print(result)\n",
    "Результат:\n",
    "\n",
    "Копіювати код\n",
    "apple, banana, cherry\n",
    "Завдання 3: Словник про книги\n",
    "python\n",
    "Копіювати код\n",
    "# Створення словника\n",
    "books = {\n",
    "    \"1984\": {\"Автор\": \"Джордж Орвелл\", \"Рік видання\": 1949, \"Кількість сторінок\": 328},\n",
    "    \"Майстер і Маргарита\": {\"Автор\": \"Михайло Булгаков\", \"Рік видання\": 1967, \"Кількість сторінок\": 384},\n",
    "    \"Портрет Доріана Грея\": {\"Автор\": \"Оскар Уайльд\", \"Рік видання\": 1890, \"Кількість сторінок\": 254},\n",
    "}\n",
    "\n",
    "# Введення назви книги\n",
    "book_name = input(\"Введіть назву книги: \")\n",
    "\n",
    "# Вивід інформації про книгу\n",
    "if book_name in books:\n",
    "    book_info = books[book_name]\n",
    "    print(f\"Автор: {book_info['Автор']}, Рік видання: {book_info['Рік видання']}, Кількість сторінок: {book_info['Кількість сторінок']}\")\n",
    "else:\n",
    "    print(\"Такої книги немає у бібліотеці.\")\n",
    "Приклад введення/виводу:\n",
    "\n",
    "yaml\n",
    "Копіювати код\n",
    "Введіть назву книги: 1984\n",
    "Автор: Джордж Орвелл, Рік видання: 1949, Кількість сторінок: 328\n",
    "Завдання 4: Словник студентів\n",
    "python\n",
    "Копіювати код\n",
    "# Створення словника\n",
    "students = {\n",
    "    \"Іванов\": (\"Іван\", \"Математика: 80\", \"Фізика: 75\"),\n",
    "    \"Петров\": (\"Петро\", \"Математика: 90\", \"Фізика: 85\"),\n",
    "    \"Сидоров\": (\"Сидір\", \"Математика: 70\", \"Фізика: 65\"),\n",
    "}\n",
    "\n",
    "# Введення прізвища студента\n",
    "last_name = input(\"Введіть прізвище студента: \")\n",
    "\n",
    "# Вивід інформації\n",
    "if last_name in students:\n",
    "    student_info = students[last_name]\n",
    "    print(f\"Ім'я: {student_info[0]}\")\n",
    "    for subject in student_info[1:]:\n",
    "        print(subject)\n",
    "else:\n",
    "    print(\"Такого студента немає.\")\n",
    "Приклад введення/виводу:\n",
    "\n",
    "makefile\n",
    "Копіювати код\n",
    "Введіть прізвище студента: Іванов\n",
    "Ім'я: Іван\n",
    "Математика: 80\n",
    "Фізика: 75\n",
    "Завдання 5: Телефонна книга"
   ]
  },
  {
   "attachments": {
    "3acced05-7792-4eb5-8bb9-44c1e0c694e4.png": {
     "image/png": "[encoded data removed]"
    }
   },
   "cell_type": "markdown",
   "id": "c937f5a7-2674-46fc-9949-676408694a20",
   "metadata": {},
   "source": [
    "![image.png](attachment:3acced05-7792-4eb5-8bb9-44c1e0c694e4.png)"
   ]
  },
  {
   "cell_type": "code",
   "execution_count": null,
   "id": "6e001256-92c9-46d6-872d-7cd1839449c0",
   "metadata": {},
   "outputs": [],
   "source": [
    "Контрольні питання"
   ]
  },
  {
   "cell_type": "code",
   "execution_count": null,
   "id": "d5754fa8-5fd4-4943-9f3b-466736111e7d",
   "metadata": {},
   "outputs": [],
   "source": [
    "1)Що виведе наступний код?\n",
    "my_tuple = (1, 2, 3)\n",
    "print(my_tuple[1:])\n",
    "(2, 3)\n",
    "2)Що виведе наступний код?\n",
    "my_dict = {'a': 1, 'b': 2, 'c': 3}\n",
    "print(my_dict.get('d', 4))\n",
    "\n",
    "3)Що виведе наступний код?\n",
    "my_tuple = (1, 2, 3)\n",
    "my_tuple[0] = 4\n",
    "print(my_tuple)\n",
    "\n",
    "4)Що виведе наступний код?\n",
    "my_dict = {'a': 1, 'b': 2, 'c': 3}\n",
    "my_dict.update({'d': 4})\n",
    "print(my_dict)\n"
   ]
  }
 ],
 "metadata": {
  "kernelspec": {
   "display_name": "Python 3 (ipykernel)",
   "language": "python",
   "name": "python3"
  },
  "language_info": {
   "codemirror_mode": {
    "name": "ipython",
    "version": 3
   },
   "file_extension": ".py",
   "mimetype": "text/x-python",
   "name": "python",
   "nbconvert_exporter": "python",
   "pygments_lexer": "ipython3",
   "version": "3.12.7"
  }
 },
 "nbformat": 4,
 "nbformat_minor": 5
}

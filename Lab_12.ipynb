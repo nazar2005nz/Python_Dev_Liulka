{
 "cells": [
  {
   "cell_type": "code",
   "execution_count": null,
   "id": "5de2efa3-d074-462f-89c5-92958343c0e0",
   "metadata": {},
   "outputs": [],
   "source": [
    "Лабораторна робота №12. Об’єктно-орієнтоване програмування. Частина ІІ"
   ]
  },
  {
   "cell_type": "code",
   "execution_count": null,
   "id": "1d995ff1-b24d-4d61-8fa9-893d8e465012",
   "metadata": {},
   "outputs": [],
   "source": [
    "Мета: навчитися програмувати в стилі об’єектно-орієнтованого програмування."
   ]
  },
  {
   "cell_type": "code",
   "execution_count": null,
   "id": "7fb08b21-6a37-4e9b-a28c-4a46dc77e3dc",
   "metadata": {},
   "outputs": [],
   "source": [
    "Основи об’єктно-орієнтованого програмування на Python. Метод str()"
   ]
  },
  {
   "cell_type": "code",
   "execution_count": null,
   "id": "fc848ef7-90c3-43fb-856f-9c6352d80f9b",
   "metadata": {},
   "outputs": [],
   "source": [
    "Приклад 1"
   ]
  },
  {
   "cell_type": "code",
   "execution_count": null,
   "id": "5a5e692d-d66c-4657-88a4-86b1c936cf83",
   "metadata": {},
   "outputs": [],
   "source": [
    "class Timer:\n",
    "    def __init__(self, hours=0, minutes=0, seconds=0):\n",
    "        self.__hours = hours\n",
    "        self.__minutes = minutes\n",
    "        self.__seconds = seconds\n",
    "\n",
    "    def __str__(self):\n",
    "        return f\"{self.__hours:02}:{self.__minutes:02}:{self.__seconds:02}\"\n",
    "\n",
    "    def next_second(self):\n",
    "        self.__seconds += 1\n",
    "        if self.__seconds == 60:\n",
    "            self.__seconds = 0\n",
    "            self.__minutes += 1\n",
    "        if self.__minutes == 60:\n",
    "            self.__minutes = 0\n",
    "            self.__hours += 1\n",
    "        if self.__hours == 24:\n",
    "            self.__hours = 0\n",
    "\n",
    "    def previous_second(self):\n",
    "        self.__seconds -= 1\n",
    "        if self.__seconds == -1:\n",
    "            self.__seconds = 59\n",
    "            self.__minutes -= 1\n",
    "        if self.__minutes == -1:\n",
    "            self.__minutes = 59\n",
    "            self.__hours -= 1\n",
    "        if self.__hours == -1:\n",
    "            self.__hours = 23\n",
    "\n",
    "# Тестування\n",
    "timer = Timer(23, 59, 59)\n",
    "print(timer)  # 23:59:59\n",
    "timer.next_second()\n",
    "print(timer)  # 00:00:00\n",
    "timer.previous_second()\n",
    "print(timer)  # 23:59:59\n"
   ]
  },
  {
   "attachments": {
    "6a7e2fbf-806d-4947-8312-011887db0286.png": {
     "image/png": "[encoded data removed]"
    }
   },
   "cell_type": "markdown",
   "id": "a60b2ec4-d25b-4f95-9691-14ef78210f9c",
   "metadata": {},
   "source": [
    "![image.png](attachment:6a7e2fbf-806d-4947-8312-011887db0286.png)"
   ]
  },
  {
   "cell_type": "code",
   "execution_count": null,
   "id": "ef4a4f15-7888-486e-b67e-c868e01a3c0e",
   "metadata": {},
   "outputs": [],
   "source": [
    "Приклад 2\n",
    "Ваше завдання – реалізувати клас під назвою Weeker. Так, Ваші очі не обманюють Вас – ця назва походить від того факту, що об’єкти цього класу можуть зберігати та керувати днями тижня."
   ]
  },
  {
   "cell_type": "code",
   "execution_count": null,
   "id": "462db6d8-cbcf-4d87-b556-4617c1d2814f",
   "metadata": {},
   "outputs": [],
   "source": [
    "class WeekDayError(Exception):\n",
    "    pass\n",
    "\n",
    "class Weeker:\n",
    "    valid_days = [\"Mon\", \"Tue\", \"Wed\", \"Thu\", \"Fri\", \"Sat\", \"Sun\"]\n",
    "    \n",
    "    def __init__(self, day):\n",
    "        if day not in Weeker.valid_days:\n",
    "            raise WeekDayError(\"Sorry, I can't serve your request.\")\n",
    "        self.__day = day\n",
    "    \n",
    "    def __str__(self):\n",
    "        return self.__day\n",
    "    \n",
    "    def add_days(self, n):\n",
    "        index = Weeker.valid_days.index(self.__day)\n",
    "        new_index = (index + n) % 7\n",
    "        self.__day = Weeker.valid_days[new_index]\n",
    "    \n",
    "    def subtract_days(self, n):\n",
    "        index = Weeker.valid_days.index(self.__day)\n",
    "        new_index = (index - n) % 7\n",
    "        self.__day = Weeker.valid_days[new_index]\n",
    "\n",
    "# Тестування\n",
    "weeker = Weeker(\"Mon\")\n",
    "print(weeker)  # Mon\n",
    "weeker.add_days(3)\n",
    "print(weeker)  # Thu\n",
    "weeker.subtract_days(5)\n",
    "print(weeker)  # Sun\n",
    "try:\n",
    "    invalid_weeker = Weeker(\"Funday\")\n",
    "except WeekDayError as e:\n",
    "    print(e)  # Sorry, I can't serve your request.\n"
   ]
  },
  {
   "attachments": {
    "7591dcb9-231a-4568-ae41-3055bb3c40c9.png": {
     "image/png": "[encoded data removed]"
    }
   },
   "cell_type": "markdown",
   "id": "b8f7d21d-06c1-4ba8-98ba-e54727112766",
   "metadata": {},
   "source": [
    "![image.png](attachment:7591dcb9-231a-4568-ae41-3055bb3c40c9.png)"
   ]
  },
  {
   "cell_type": "code",
   "execution_count": null,
   "id": "77499f48-870a-4e25-9ecf-e64667a0ef2d",
   "metadata": {},
   "outputs": [],
   "source": [
    "Приклад 3\n",
    "Давайте відвідаємо зовсім особливе місце – площину з декартовою системою координат (Ви можете дізнатися більше про цю концепцію тут: Декартова система координат)."
   ]
  },
  {
   "attachments": {
    "326d9178-c4a3-402a-a3d8-dc61a15fa010.png": {
     "image/png": "[encoded data removed]"
    }
   },
   "cell_type": "markdown",
   "id": "5c3ad4c1-6888-49f2-bcf1-d106312a9daa",
   "metadata": {},
   "source": [
    "![image.png](attachment:326d9178-c4a3-402a-a3d8-dc61a15fa010.png)"
   ]
  },
  {
   "cell_type": "code",
   "execution_count": null,
   "id": "abcc612a-cae2-4948-af12-7c9cd01efb55",
   "metadata": {},
   "outputs": [],
   "source": [
    "Завдання 1\n",
    "Тепер ми збираємося вбудувати клас Point (див. попереднє завдання) в інший клас. Крім того, ми збираємося помістити три точки в один клас, що дозволить нам визначити трикутник. Як ми можемо це зробити?"
   ]
  },
  {
   "cell_type": "code",
   "execution_count": null,
   "id": "6ff5d10c-d422-499f-85c9-cf619e55ad00",
   "metadata": {},
   "outputs": [],
   "source": [
    "import math\n",
    "\n",
    "class Point:\n",
    "    def __init__(self, x=0.0, y=0.0):\n",
    "        self.__x = x\n",
    "        self.__y = y\n",
    "    \n",
    "    def getx(self):\n",
    "        return self.__x\n",
    "    \n",
    "    def gety(self):\n",
    "        return self.__y\n",
    "    \n",
    "    def distance_from_point(self, point):\n",
    "        return math.hypot(self.__x - point.getx(), self.__y - point.gety())\n",
    "\n",
    "class Triangle:\n",
    "    def __init__(self, p1, p2, p3):\n",
    "        self.__points = [p1, p2, p3]\n",
    "    \n",
    "    def perimeter(self):\n",
    "        side1 = self.__points[0].distance_from_point(self.__points[1])\n",
    "        side2 = self.__points[1].distance_from_point(self.__points[2])\n",
    "        side3 = self.__points[2].distance_from_point(self.__points[0])\n",
    "        return side1 + side2 + side3\n",
    "\n",
    "# Тестування\n",
    "point1 = Point(0, 0)\n",
    "point2 = Point(1, 0)\n",
    "point3 = Point(0, 1)\n",
    "triangle = Triangle(point1, point2, point3)\n",
    "print(triangle.perimeter())  # 3.414213562373095\n"
   ]
  },
  {
   "attachments": {
    "731e5055-c620-42bb-b2d3-beead6057cf0.png": {
     "image/png": "[encoded data removed]"
    }
   },
   "cell_type": "markdown",
   "id": "5cc992c5-cf89-430e-819d-4d5455600b6d",
   "metadata": {},
   "source": [
    "![image.png](attachment:731e5055-c620-42bb-b2d3-beead6057cf0.png)"
   ]
  },
  {
   "cell_type": "code",
   "execution_count": null,
   "id": "4a7444ed-0c54-43da-8059-7caa8c4047d1",
   "metadata": {},
   "outputs": [],
   "source": [
    "Контрольні запитання\n",
    "Припустимо, що наступний фрагмент коду успішно виконано:\n",
    "\n",
    "class Dog: \n",
    "    kennel = 0 \n",
    "    def __init__(self, breed): \n",
    "        self.breed = breed \n",
    "        Dog.kennel += 1 \n",
    "\n",
    "    def __str__(self): \n",
    "        return self.breed + \" says: Woof!\" \n",
    "\n",
    "\n",
    "class SheepDog(Dog): \n",
    "    def __str__(self): \n",
    "        return super().__str__() + \" Don't run away, Little Lamb!\" \n",
    "\n",
    "\n",
    "class GuardDog(Dog): \n",
    "     def __str__(self): \n",
    "         return super().__str__() + \" Stay where you are, Mister Intruder!\" \n",
    "\n",
    "rocky = SheepDog(\"Collie\") \n",
    "luna = GuardDog(\"Dobermann\") \n",
    "Відповідь: \n",
    "Collie says: Woof! Don't run away, Little Lamb!\n",
    "Dobermann says: Woof! Stay where you are, Mister Intruder!\n",
    "Який очікуваний вивід наступного фрагмента коду?\n",
    "print(rocky) print(luna)\n",
    "\n",
    "Який очікуваний вивід наступного фрагмента коду?\n",
    "print(issubclass(SheepDog, Dog), issubclass(SheepDog, GuardDog))\n",
    "print(isinstance(rocky, GuardDog), isinstance(luna, GuardDog))\n",
    "True False\n",
    "False True"
   ]
  }
 ],
 "metadata": {
  "kernelspec": {
   "display_name": "Python 3 (ipykernel)",
   "language": "python",
   "name": "python3"
  },
  "language_info": {
   "codemirror_mode": {
    "name": "ipython",
    "version": 3
   },
   "file_extension": ".py",
   "mimetype": "text/x-python",
   "name": "python",
   "nbconvert_exporter": "python",
   "pygments_lexer": "ipython3",
   "version": "3.12.7"
  }
 },
 "nbformat": 4,
 "nbformat_minor": 5
}
